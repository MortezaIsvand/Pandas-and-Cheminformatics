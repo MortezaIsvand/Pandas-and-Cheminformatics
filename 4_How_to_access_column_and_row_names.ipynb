{
  "nbformat": 4,
  "nbformat_minor": 0,
  "metadata": {
    "colab": {
      "name": "4_How to access column and row names.ipynb",
      "provenance": [],
      "collapsed_sections": [],
      "mount_file_id": "1OeORaTu8VBgz_ae1iphryrmMZb2emda-",
      "authorship_tag": "ABX9TyNOnzk4+LT4hC6EjPc78vxP"
    },
    "kernelspec": {
      "name": "python3",
      "display_name": "Python 3"
    },
    "language_info": {
      "name": "python"
    }
  },
  "cells": [
    {
      "cell_type": "code",
      "execution_count": null,
      "metadata": {
        "id": "1ZbfC5XcFx70"
      },
      "outputs": [],
      "source": [
        "import pandas as pd"
      ]
    },
    {
      "cell_type": "code",
      "source": [
        "df = pd.read_csv('/content/drive/MyDrive/Chemble_library_2M_2.csv')\n",
        "df.head()"
      ],
      "metadata": {
        "id": "TVlmmvBpGEEl",
        "colab": {
          "base_uri": "https://localhost:8080/",
          "height": 457
        },
        "outputId": "045ac3a9-0724-4b89-eb3b-93a0286346ba"
      },
      "execution_count": null,
      "outputs": [
        {
          "output_type": "stream",
          "name": "stderr",
          "text": [
            "/usr/local/lib/python3.7/dist-packages/IPython/core/interactiveshell.py:2882: DtypeWarning: Columns (27) have mixed types.Specify dtype option on import or set low_memory=False.\n",
            "  exec(code_obj, self.user_global_ns, self.user_ns)\n"
          ]
        },
        {
          "output_type": "execute_result",
          "data": {
            "text/plain": [
              "       ChEMBL ID Name Synonyms            Type  Max Phase  Molecular Weight  \\\n",
              "0  CHEMBL3425773  NaN      NaN  Small molecule          0            263.25   \n",
              "1  CHEMBL1998753  NaN      NaN  Small molecule          0            455.46   \n",
              "2  CHEMBL1867860  NaN      NaN  Small molecule          0            465.53   \n",
              "3   CHEMBL481686  NaN      NaN  Small molecule          0            417.55   \n",
              "4  CHEMBL1939547  NaN      NaN  Small molecule          0            328.31   \n",
              "\n",
              "   Targets  Bioactivities  AlogP Polar Surface Area  ... Inorganic Flag  \\\n",
              "0      1.0            1.0   3.04              74.23  ...             -1   \n",
              "1     56.0           56.0   2.28             100.60  ...             -1   \n",
              "2      4.0            4.0   3.49              91.56  ...             -1   \n",
              "3      1.0            2.0   4.71              48.71  ...             -1   \n",
              "4      5.0           10.0   3.69             112.06  ...             -1   \n",
              "\n",
              "  Heavy Atoms HBA (Lipinski) HBD (Lipinski) #RO5 Violations (Lipinski)  \\\n",
              "0          20              4              1                          0   \n",
              "1          33              9              0                          0   \n",
              "2          33              8              1                          0   \n",
              "3          31              5              1                          0   \n",
              "4          23              8              0                          0   \n",
              "\n",
              "  Molecular Weight (Monoisotopic) Molecular Species Molecular Formula  \\\n",
              "0                        263.0582              ACID          C16H9NO3   \n",
              "1                         455.158           NEUTRAL         C24H25NO8   \n",
              "2                        465.1358           NEUTRAL       C24H23N3O5S   \n",
              "3                        417.2416           NEUTRAL        C26H31N3O2   \n",
              "4                        328.0266           NEUTRAL        C14H8N4O4S   \n",
              "\n",
              "                                              Smiles  \\\n",
              "0                  N#Cc1ccc(-c2coc3cc(O)ccc3c2=O)cc1   \n",
              "1  COC(=O)[C@@H]1[C@H]2[C@H](OC(=O)c3ccccc3)CCN2O...   \n",
              "2  COc1cccc(-n2c(=O)c3c(C)c(C)sc3n(CC(=O)Nc3ccccc...   \n",
              "3  Cc1cc(C)cc(N(Cc2ccc(CO)cc2)c2cc(C(=O)N3CCCC3)n...   \n",
              "4  O=[N+]([O-])c1ccc(-c2nsc(-c3ccc([N+](=O)[O-])c...   \n",
              "\n",
              "                     Inchi Key  \n",
              "0  VFISVTBQGUQPIQ-UHFFFAOYSA-N  \n",
              "1  OQFYYDNHLYZLOL-BORCDFBASA-N  \n",
              "2  CHCLAAKAFOYXSQ-UHFFFAOYSA-N  \n",
              "3  UFQDWXYZGWHYFO-UHFFFAOYSA-N  \n",
              "4  VCXUCYVZJDYDCE-UHFFFAOYSA-N  \n",
              "\n",
              "[5 rows x 32 columns]"
            ],
            "text/html": [
              "\n",
              "  <div id=\"df-026e2fc9-8e3c-4132-934a-3d87837fcdfd\">\n",
              "    <div class=\"colab-df-container\">\n",
              "      <div>\n",
              "<style scoped>\n",
              "    .dataframe tbody tr th:only-of-type {\n",
              "        vertical-align: middle;\n",
              "    }\n",
              "\n",
              "    .dataframe tbody tr th {\n",
              "        vertical-align: top;\n",
              "    }\n",
              "\n",
              "    .dataframe thead th {\n",
              "        text-align: right;\n",
              "    }\n",
              "</style>\n",
              "<table border=\"1\" class=\"dataframe\">\n",
              "  <thead>\n",
              "    <tr style=\"text-align: right;\">\n",
              "      <th></th>\n",
              "      <th>ChEMBL ID</th>\n",
              "      <th>Name</th>\n",
              "      <th>Synonyms</th>\n",
              "      <th>Type</th>\n",
              "      <th>Max Phase</th>\n",
              "      <th>Molecular Weight</th>\n",
              "      <th>Targets</th>\n",
              "      <th>Bioactivities</th>\n",
              "      <th>AlogP</th>\n",
              "      <th>Polar Surface Area</th>\n",
              "      <th>...</th>\n",
              "      <th>Inorganic Flag</th>\n",
              "      <th>Heavy Atoms</th>\n",
              "      <th>HBA (Lipinski)</th>\n",
              "      <th>HBD (Lipinski)</th>\n",
              "      <th>#RO5 Violations (Lipinski)</th>\n",
              "      <th>Molecular Weight (Monoisotopic)</th>\n",
              "      <th>Molecular Species</th>\n",
              "      <th>Molecular Formula</th>\n",
              "      <th>Smiles</th>\n",
              "      <th>Inchi Key</th>\n",
              "    </tr>\n",
              "  </thead>\n",
              "  <tbody>\n",
              "    <tr>\n",
              "      <th>0</th>\n",
              "      <td>CHEMBL3425773</td>\n",
              "      <td>NaN</td>\n",
              "      <td>NaN</td>\n",
              "      <td>Small molecule</td>\n",
              "      <td>0</td>\n",
              "      <td>263.25</td>\n",
              "      <td>1.0</td>\n",
              "      <td>1.0</td>\n",
              "      <td>3.04</td>\n",
              "      <td>74.23</td>\n",
              "      <td>...</td>\n",
              "      <td>-1</td>\n",
              "      <td>20</td>\n",
              "      <td>4</td>\n",
              "      <td>1</td>\n",
              "      <td>0</td>\n",
              "      <td>263.0582</td>\n",
              "      <td>ACID</td>\n",
              "      <td>C16H9NO3</td>\n",
              "      <td>N#Cc1ccc(-c2coc3cc(O)ccc3c2=O)cc1</td>\n",
              "      <td>VFISVTBQGUQPIQ-UHFFFAOYSA-N</td>\n",
              "    </tr>\n",
              "    <tr>\n",
              "      <th>1</th>\n",
              "      <td>CHEMBL1998753</td>\n",
              "      <td>NaN</td>\n",
              "      <td>NaN</td>\n",
              "      <td>Small molecule</td>\n",
              "      <td>0</td>\n",
              "      <td>455.46</td>\n",
              "      <td>56.0</td>\n",
              "      <td>56.0</td>\n",
              "      <td>2.28</td>\n",
              "      <td>100.60</td>\n",
              "      <td>...</td>\n",
              "      <td>-1</td>\n",
              "      <td>33</td>\n",
              "      <td>9</td>\n",
              "      <td>0</td>\n",
              "      <td>0</td>\n",
              "      <td>455.158</td>\n",
              "      <td>NEUTRAL</td>\n",
              "      <td>C24H25NO8</td>\n",
              "      <td>COC(=O)[C@@H]1[C@H]2[C@H](OC(=O)c3ccccc3)CCN2O...</td>\n",
              "      <td>OQFYYDNHLYZLOL-BORCDFBASA-N</td>\n",
              "    </tr>\n",
              "    <tr>\n",
              "      <th>2</th>\n",
              "      <td>CHEMBL1867860</td>\n",
              "      <td>NaN</td>\n",
              "      <td>NaN</td>\n",
              "      <td>Small molecule</td>\n",
              "      <td>0</td>\n",
              "      <td>465.53</td>\n",
              "      <td>4.0</td>\n",
              "      <td>4.0</td>\n",
              "      <td>3.49</td>\n",
              "      <td>91.56</td>\n",
              "      <td>...</td>\n",
              "      <td>-1</td>\n",
              "      <td>33</td>\n",
              "      <td>8</td>\n",
              "      <td>1</td>\n",
              "      <td>0</td>\n",
              "      <td>465.1358</td>\n",
              "      <td>NEUTRAL</td>\n",
              "      <td>C24H23N3O5S</td>\n",
              "      <td>COc1cccc(-n2c(=O)c3c(C)c(C)sc3n(CC(=O)Nc3ccccc...</td>\n",
              "      <td>CHCLAAKAFOYXSQ-UHFFFAOYSA-N</td>\n",
              "    </tr>\n",
              "    <tr>\n",
              "      <th>3</th>\n",
              "      <td>CHEMBL481686</td>\n",
              "      <td>NaN</td>\n",
              "      <td>NaN</td>\n",
              "      <td>Small molecule</td>\n",
              "      <td>0</td>\n",
              "      <td>417.55</td>\n",
              "      <td>1.0</td>\n",
              "      <td>2.0</td>\n",
              "      <td>4.71</td>\n",
              "      <td>48.71</td>\n",
              "      <td>...</td>\n",
              "      <td>-1</td>\n",
              "      <td>31</td>\n",
              "      <td>5</td>\n",
              "      <td>1</td>\n",
              "      <td>0</td>\n",
              "      <td>417.2416</td>\n",
              "      <td>NEUTRAL</td>\n",
              "      <td>C26H31N3O2</td>\n",
              "      <td>Cc1cc(C)cc(N(Cc2ccc(CO)cc2)c2cc(C(=O)N3CCCC3)n...</td>\n",
              "      <td>UFQDWXYZGWHYFO-UHFFFAOYSA-N</td>\n",
              "    </tr>\n",
              "    <tr>\n",
              "      <th>4</th>\n",
              "      <td>CHEMBL1939547</td>\n",
              "      <td>NaN</td>\n",
              "      <td>NaN</td>\n",
              "      <td>Small molecule</td>\n",
              "      <td>0</td>\n",
              "      <td>328.31</td>\n",
              "      <td>5.0</td>\n",
              "      <td>10.0</td>\n",
              "      <td>3.69</td>\n",
              "      <td>112.06</td>\n",
              "      <td>...</td>\n",
              "      <td>-1</td>\n",
              "      <td>23</td>\n",
              "      <td>8</td>\n",
              "      <td>0</td>\n",
              "      <td>0</td>\n",
              "      <td>328.0266</td>\n",
              "      <td>NEUTRAL</td>\n",
              "      <td>C14H8N4O4S</td>\n",
              "      <td>O=[N+]([O-])c1ccc(-c2nsc(-c3ccc([N+](=O)[O-])c...</td>\n",
              "      <td>VCXUCYVZJDYDCE-UHFFFAOYSA-N</td>\n",
              "    </tr>\n",
              "  </tbody>\n",
              "</table>\n",
              "<p>5 rows × 32 columns</p>\n",
              "</div>\n",
              "      <button class=\"colab-df-convert\" onclick=\"convertToInteractive('df-026e2fc9-8e3c-4132-934a-3d87837fcdfd')\"\n",
              "              title=\"Convert this dataframe to an interactive table.\"\n",
              "              style=\"display:none;\">\n",
              "        \n",
              "  <svg xmlns=\"http://www.w3.org/2000/svg\" height=\"24px\"viewBox=\"0 0 24 24\"\n",
              "       width=\"24px\">\n",
              "    <path d=\"M0 0h24v24H0V0z\" fill=\"none\"/>\n",
              "    <path d=\"M18.56 5.44l.94 2.06.94-2.06 2.06-.94-2.06-.94-.94-2.06-.94 2.06-2.06.94zm-11 1L8.5 8.5l.94-2.06 2.06-.94-2.06-.94L8.5 2.5l-.94 2.06-2.06.94zm10 10l.94 2.06.94-2.06 2.06-.94-2.06-.94-.94-2.06-.94 2.06-2.06.94z\"/><path d=\"M17.41 7.96l-1.37-1.37c-.4-.4-.92-.59-1.43-.59-.52 0-1.04.2-1.43.59L10.3 9.45l-7.72 7.72c-.78.78-.78 2.05 0 2.83L4 21.41c.39.39.9.59 1.41.59.51 0 1.02-.2 1.41-.59l7.78-7.78 2.81-2.81c.8-.78.8-2.07 0-2.86zM5.41 20L4 18.59l7.72-7.72 1.47 1.35L5.41 20z\"/>\n",
              "  </svg>\n",
              "      </button>\n",
              "      \n",
              "  <style>\n",
              "    .colab-df-container {\n",
              "      display:flex;\n",
              "      flex-wrap:wrap;\n",
              "      gap: 12px;\n",
              "    }\n",
              "\n",
              "    .colab-df-convert {\n",
              "      background-color: #E8F0FE;\n",
              "      border: none;\n",
              "      border-radius: 50%;\n",
              "      cursor: pointer;\n",
              "      display: none;\n",
              "      fill: #1967D2;\n",
              "      height: 32px;\n",
              "      padding: 0 0 0 0;\n",
              "      width: 32px;\n",
              "    }\n",
              "\n",
              "    .colab-df-convert:hover {\n",
              "      background-color: #E2EBFA;\n",
              "      box-shadow: 0px 1px 2px rgba(60, 64, 67, 0.3), 0px 1px 3px 1px rgba(60, 64, 67, 0.15);\n",
              "      fill: #174EA6;\n",
              "    }\n",
              "\n",
              "    [theme=dark] .colab-df-convert {\n",
              "      background-color: #3B4455;\n",
              "      fill: #D2E3FC;\n",
              "    }\n",
              "\n",
              "    [theme=dark] .colab-df-convert:hover {\n",
              "      background-color: #434B5C;\n",
              "      box-shadow: 0px 1px 3px 1px rgba(0, 0, 0, 0.15);\n",
              "      filter: drop-shadow(0px 1px 2px rgba(0, 0, 0, 0.3));\n",
              "      fill: #FFFFFF;\n",
              "    }\n",
              "  </style>\n",
              "\n",
              "      <script>\n",
              "        const buttonEl =\n",
              "          document.querySelector('#df-026e2fc9-8e3c-4132-934a-3d87837fcdfd button.colab-df-convert');\n",
              "        buttonEl.style.display =\n",
              "          google.colab.kernel.accessAllowed ? 'block' : 'none';\n",
              "\n",
              "        async function convertToInteractive(key) {\n",
              "          const element = document.querySelector('#df-026e2fc9-8e3c-4132-934a-3d87837fcdfd');\n",
              "          const dataTable =\n",
              "            await google.colab.kernel.invokeFunction('convertToInteractive',\n",
              "                                                     [key], {});\n",
              "          if (!dataTable) return;\n",
              "\n",
              "          const docLinkHtml = 'Like what you see? Visit the ' +\n",
              "            '<a target=\"_blank\" href=https://colab.research.google.com/notebooks/data_table.ipynb>data table notebook</a>'\n",
              "            + ' to learn more about interactive tables.';\n",
              "          element.innerHTML = '';\n",
              "          dataTable['output_type'] = 'display_data';\n",
              "          await google.colab.output.renderOutput(dataTable, element);\n",
              "          const docLink = document.createElement('div');\n",
              "          docLink.innerHTML = docLinkHtml;\n",
              "          element.appendChild(docLink);\n",
              "        }\n",
              "      </script>\n",
              "    </div>\n",
              "  </div>\n",
              "  "
            ]
          },
          "metadata": {},
          "execution_count": 4
        }
      ]
    },
    {
      "cell_type": "code",
      "source": [
        "df.columns[0]"
      ],
      "metadata": {
        "id": "C1bt7FKXH4TP",
        "colab": {
          "base_uri": "https://localhost:8080/",
          "height": 36
        },
        "outputId": "80fc373c-389d-43db-c2e0-3092deab7f26"
      },
      "execution_count": null,
      "outputs": [
        {
          "output_type": "execute_result",
          "data": {
            "text/plain": [
              "'ChEMBL ID'"
            ],
            "application/vnd.google.colaboratory.intrinsic+json": {
              "type": "string"
            }
          },
          "metadata": {},
          "execution_count": 5
        }
      ]
    },
    {
      "cell_type": "code",
      "source": [
        "df.columns[[0, 1, 5, 6]]"
      ],
      "metadata": {
        "id": "4JmcSB_JH78-",
        "colab": {
          "base_uri": "https://localhost:8080/"
        },
        "outputId": "f7722f4a-06eb-42cd-cd92-35d671403a95"
      },
      "execution_count": null,
      "outputs": [
        {
          "output_type": "execute_result",
          "data": {
            "text/plain": [
              "Index(['ChEMBL ID', 'Name', 'Molecular Weight', 'Targets'], dtype='object')"
            ]
          },
          "metadata": {},
          "execution_count": 6
        }
      ]
    },
    {
      "cell_type": "code",
      "source": [
        "df.columns[2:9]"
      ],
      "metadata": {
        "id": "21HNiktrIF6f",
        "colab": {
          "base_uri": "https://localhost:8080/"
        },
        "outputId": "59d500b6-6d78-45a8-f090-4550053b9860"
      },
      "execution_count": null,
      "outputs": [
        {
          "output_type": "execute_result",
          "data": {
            "text/plain": [
              "Index(['Synonyms', 'Type', 'Max Phase', 'Molecular Weight', 'Targets',\n",
              "       'Bioactivities', 'AlogP'],\n",
              "      dtype='object')"
            ]
          },
          "metadata": {},
          "execution_count": 7
        }
      ]
    },
    {
      "cell_type": "code",
      "source": [
        "df.columns[5:]"
      ],
      "metadata": {
        "id": "1A0p2cguLjZb",
        "colab": {
          "base_uri": "https://localhost:8080/"
        },
        "outputId": "0cd683d4-45c4-4184-af62-307d78eeb4a6"
      },
      "execution_count": null,
      "outputs": [
        {
          "output_type": "execute_result",
          "data": {
            "text/plain": [
              "Index(['Molecular Weight', 'Targets', 'Bioactivities', 'AlogP',\n",
              "       'Polar Surface Area', 'HBA', 'HBD', '#RO5 Violations',\n",
              "       '#Rotatable Bonds', 'Passes Ro3', 'QED Weighted', 'CX Acidic pKa',\n",
              "       'CX Basic pKa', 'CX LogP', 'CX LogD', 'Aromatic Rings',\n",
              "       'Structure Type', 'Inorganic Flag', 'Heavy Atoms', 'HBA (Lipinski)',\n",
              "       'HBD (Lipinski)', '#RO5 Violations (Lipinski)',\n",
              "       'Molecular Weight (Monoisotopic)', 'Molecular Species',\n",
              "       'Molecular Formula', 'Smiles', 'Inchi Key'],\n",
              "      dtype='object')"
            ]
          },
          "metadata": {},
          "execution_count": 8
        }
      ]
    },
    {
      "cell_type": "code",
      "source": [
        "df.columns[:5]"
      ],
      "metadata": {
        "id": "xqAbccIwLrzM",
        "colab": {
          "base_uri": "https://localhost:8080/"
        },
        "outputId": "09a04e51-b07e-4046-d15a-dc91ee83cf65"
      },
      "execution_count": null,
      "outputs": [
        {
          "output_type": "execute_result",
          "data": {
            "text/plain": [
              "Index(['ChEMBL ID', 'Name', 'Synonyms', 'Type', 'Max Phase'], dtype='object')"
            ]
          },
          "metadata": {},
          "execution_count": 9
        }
      ]
    },
    {
      "cell_type": "code",
      "source": [
        "df.columns[0::2]"
      ],
      "metadata": {
        "id": "h4mktnMhINSK",
        "colab": {
          "base_uri": "https://localhost:8080/"
        },
        "outputId": "b3db720a-1528-43dc-87a7-3b1fa9a3a256"
      },
      "execution_count": null,
      "outputs": [
        {
          "output_type": "execute_result",
          "data": {
            "text/plain": [
              "Index(['ChEMBL ID', 'Synonyms', 'Max Phase', 'Targets', 'AlogP', 'HBA',\n",
              "       '#RO5 Violations', 'Passes Ro3', 'CX Acidic pKa', 'CX LogP',\n",
              "       'Aromatic Rings', 'Inorganic Flag', 'HBA (Lipinski)',\n",
              "       '#RO5 Violations (Lipinski)', 'Molecular Species', 'Smiles'],\n",
              "      dtype='object')"
            ]
          },
          "metadata": {},
          "execution_count": 10
        }
      ]
    },
    {
      "cell_type": "code",
      "source": [
        "df.columns[-1]"
      ],
      "metadata": {
        "id": "JWmB3r_sIgag",
        "colab": {
          "base_uri": "https://localhost:8080/",
          "height": 36
        },
        "outputId": "df9653ae-7feb-4e41-eb78-910d1937a99c"
      },
      "execution_count": null,
      "outputs": [
        {
          "output_type": "execute_result",
          "data": {
            "text/plain": [
              "'Inchi Key'"
            ],
            "application/vnd.google.colaboratory.intrinsic+json": {
              "type": "string"
            }
          },
          "metadata": {},
          "execution_count": 11
        }
      ]
    },
    {
      "cell_type": "code",
      "source": [
        "df.columns[-2]"
      ],
      "metadata": {
        "id": "E11zdI5SInuw",
        "colab": {
          "base_uri": "https://localhost:8080/",
          "height": 36
        },
        "outputId": "51de1ea7-1062-44e2-b506-835fc04e10c7"
      },
      "execution_count": null,
      "outputs": [
        {
          "output_type": "execute_result",
          "data": {
            "text/plain": [
              "'Smiles'"
            ],
            "application/vnd.google.colaboratory.intrinsic+json": {
              "type": "string"
            }
          },
          "metadata": {},
          "execution_count": 12
        }
      ]
    },
    {
      "cell_type": "code",
      "source": [
        "df.columns[-3:]"
      ],
      "metadata": {
        "id": "kLiqg9qyMCLL",
        "colab": {
          "base_uri": "https://localhost:8080/"
        },
        "outputId": "7a27258a-7ef4-4625-9f60-279c9dc62511"
      },
      "execution_count": null,
      "outputs": [
        {
          "output_type": "execute_result",
          "data": {
            "text/plain": [
              "Index(['Molecular Formula', 'Smiles', 'Inchi Key'], dtype='object')"
            ]
          },
          "metadata": {},
          "execution_count": 13
        }
      ]
    },
    {
      "cell_type": "code",
      "source": [],
      "metadata": {
        "id": "Ph1mtto-PA4M"
      },
      "execution_count": null,
      "outputs": []
    },
    {
      "cell_type": "markdown",
      "source": [
        "### Selecting rows by pandas-index [ ] function"
      ],
      "metadata": {
        "id": "A42CYfEfHdDP"
      }
    },
    {
      "cell_type": "code",
      "source": [
        "df.index[1]"
      ],
      "metadata": {
        "id": "irhsIn9mOwyr",
        "colab": {
          "base_uri": "https://localhost:8080/"
        },
        "outputId": "eee7acd4-b83c-4193-dc38-cb74b90a1408"
      },
      "execution_count": null,
      "outputs": [
        {
          "output_type": "execute_result",
          "data": {
            "text/plain": [
              "1"
            ]
          },
          "metadata": {},
          "execution_count": 14
        }
      ]
    },
    {
      "cell_type": "code",
      "source": [
        "df.index[1:4]"
      ],
      "metadata": {
        "id": "jKBtKvu8Owvi",
        "colab": {
          "base_uri": "https://localhost:8080/"
        },
        "outputId": "b8dc9cda-da17-4f34-dda6-eb70de5ad342"
      },
      "execution_count": null,
      "outputs": [
        {
          "output_type": "execute_result",
          "data": {
            "text/plain": [
              "RangeIndex(start=1, stop=4, step=1)"
            ]
          },
          "metadata": {},
          "execution_count": 15
        }
      ]
    },
    {
      "cell_type": "code",
      "source": [
        "list(df.index[55:204])"
      ],
      "metadata": {
        "id": "XoTUsjFYOwrb",
        "colab": {
          "base_uri": "https://localhost:8080/"
        },
        "outputId": "ed04f4cf-2f60-497a-b095-c3623194c696"
      },
      "execution_count": null,
      "outputs": [
        {
          "output_type": "execute_result",
          "data": {
            "text/plain": [
              "[55,\n",
              " 56,\n",
              " 57,\n",
              " 58,\n",
              " 59,\n",
              " 60,\n",
              " 61,\n",
              " 62,\n",
              " 63,\n",
              " 64,\n",
              " 65,\n",
              " 66,\n",
              " 67,\n",
              " 68,\n",
              " 69,\n",
              " 70,\n",
              " 71,\n",
              " 72,\n",
              " 73,\n",
              " 74,\n",
              " 75,\n",
              " 76,\n",
              " 77,\n",
              " 78,\n",
              " 79,\n",
              " 80,\n",
              " 81,\n",
              " 82,\n",
              " 83,\n",
              " 84,\n",
              " 85,\n",
              " 86,\n",
              " 87,\n",
              " 88,\n",
              " 89,\n",
              " 90,\n",
              " 91,\n",
              " 92,\n",
              " 93,\n",
              " 94,\n",
              " 95,\n",
              " 96,\n",
              " 97,\n",
              " 98,\n",
              " 99,\n",
              " 100,\n",
              " 101,\n",
              " 102,\n",
              " 103,\n",
              " 104,\n",
              " 105,\n",
              " 106,\n",
              " 107,\n",
              " 108,\n",
              " 109,\n",
              " 110,\n",
              " 111,\n",
              " 112,\n",
              " 113,\n",
              " 114,\n",
              " 115,\n",
              " 116,\n",
              " 117,\n",
              " 118,\n",
              " 119,\n",
              " 120,\n",
              " 121,\n",
              " 122,\n",
              " 123,\n",
              " 124,\n",
              " 125,\n",
              " 126,\n",
              " 127,\n",
              " 128,\n",
              " 129,\n",
              " 130,\n",
              " 131,\n",
              " 132,\n",
              " 133,\n",
              " 134,\n",
              " 135,\n",
              " 136,\n",
              " 137,\n",
              " 138,\n",
              " 139,\n",
              " 140,\n",
              " 141,\n",
              " 142,\n",
              " 143,\n",
              " 144,\n",
              " 145,\n",
              " 146,\n",
              " 147,\n",
              " 148,\n",
              " 149,\n",
              " 150,\n",
              " 151,\n",
              " 152,\n",
              " 153,\n",
              " 154,\n",
              " 155,\n",
              " 156,\n",
              " 157,\n",
              " 158,\n",
              " 159,\n",
              " 160,\n",
              " 161,\n",
              " 162,\n",
              " 163,\n",
              " 164,\n",
              " 165,\n",
              " 166,\n",
              " 167,\n",
              " 168,\n",
              " 169,\n",
              " 170,\n",
              " 171,\n",
              " 172,\n",
              " 173,\n",
              " 174,\n",
              " 175,\n",
              " 176,\n",
              " 177,\n",
              " 178,\n",
              " 179,\n",
              " 180,\n",
              " 181,\n",
              " 182,\n",
              " 183,\n",
              " 184,\n",
              " 185,\n",
              " 186,\n",
              " 187,\n",
              " 188,\n",
              " 189,\n",
              " 190,\n",
              " 191,\n",
              " 192,\n",
              " 193,\n",
              " 194,\n",
              " 195,\n",
              " 196,\n",
              " 197,\n",
              " 198,\n",
              " 199,\n",
              " 200,\n",
              " 201,\n",
              " 202,\n",
              " 203]"
            ]
          },
          "metadata": {},
          "execution_count": 16
        }
      ]
    },
    {
      "cell_type": "code",
      "source": [],
      "metadata": {
        "id": "6TJa_IwKGD8_"
      },
      "execution_count": null,
      "outputs": []
    }
  ]
}