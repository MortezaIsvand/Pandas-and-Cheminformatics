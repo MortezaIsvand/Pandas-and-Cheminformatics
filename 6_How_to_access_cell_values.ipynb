{
  "nbformat": 4,
  "nbformat_minor": 0,
  "metadata": {
    "colab": {
      "name": "6_How to access cell values.ipynb",
      "provenance": [],
      "collapsed_sections": [],
      "mount_file_id": "1iMwtiCgybF37ATXm4AhKgei-RjJjn1e-",
      "authorship_tag": "ABX9TyOPQMYUKS//yk/UahySMtvc"
    },
    "kernelspec": {
      "name": "python3",
      "display_name": "Python 3"
    },
    "language_info": {
      "name": "python"
    }
  },
  "cells": [
    {
      "cell_type": "markdown",
      "source": [
        "### Getting cell value"
      ],
      "metadata": {
        "id": "WIaQkZvpSUux"
      }
    },
    {
      "cell_type": "markdown",
      "source": [
        "Using column name"
      ],
      "metadata": {
        "id": "WmVNlNFDarjF"
      }
    },
    {
      "cell_type": "code",
      "execution_count": 1,
      "metadata": {
        "id": "1ZbfC5XcFx70"
      },
      "outputs": [],
      "source": [
        "import pandas as pd"
      ]
    },
    {
      "cell_type": "code",
      "source": [
        "df = pd.read_csv('/content/drive/MyDrive/Chembl_library_2M_2.csv')\n",
        "df.head()"
      ],
      "metadata": {
        "id": "TVlmmvBpGEEl",
        "colab": {
          "base_uri": "https://localhost:8080/",
          "height": 423
        },
        "outputId": "7766917d-2849-4ac7-8b21-d65146a47e4c"
      },
      "execution_count": 2,
      "outputs": [
        {
          "output_type": "stream",
          "name": "stderr",
          "text": [
            "/usr/local/lib/python3.7/dist-packages/IPython/core/interactiveshell.py:3326: DtypeWarning: Columns (27) have mixed types.Specify dtype option on import or set low_memory=False.\n",
            "  exec(code_obj, self.user_global_ns, self.user_ns)\n"
          ]
        },
        {
          "output_type": "execute_result",
          "data": {
            "text/plain": [
              "        ChEMBLID Name Synonyms            Type  MaxPhase  MolecularWeight  \\\n",
              "0  CHEMBL3425773  NaN      NaN  Small molecule         0           263.25   \n",
              "1  CHEMBL1998753  NaN      NaN  Small molecule         0           455.46   \n",
              "2  CHEMBL1867860  NaN      NaN  Small molecule         0           465.53   \n",
              "3   CHEMBL481686  NaN      NaN  Small molecule         0           417.55   \n",
              "4  CHEMBL1939547  NaN      NaN  Small molecule         0           328.31   \n",
              "\n",
              "   Targets  Bioactivities  AlogP PolarSurfaceArea  ... InorganicFlag  \\\n",
              "0      1.0            1.0   3.04            74.23  ...            -1   \n",
              "1     56.0           56.0   2.28           100.60  ...            -1   \n",
              "2      4.0            4.0   3.49            91.56  ...            -1   \n",
              "3      1.0            2.0   4.71            48.71  ...            -1   \n",
              "4      5.0           10.0   3.69           112.06  ...            -1   \n",
              "\n",
              "  HeavyAtoms HBA(Lipinski) HBD(Lipinski) #RO5Violations(Lipinski)  \\\n",
              "0         20             4             1                        0   \n",
              "1         33             9             0                        0   \n",
              "2         33             8             1                        0   \n",
              "3         31             5             1                        0   \n",
              "4         23             8             0                        0   \n",
              "\n",
              "  MolecularWeight(Monoisotopic) MolecularSpecies MolecularFormula  \\\n",
              "0                      263.0582             ACID         C16H9NO3   \n",
              "1                       455.158          NEUTRAL        C24H25NO8   \n",
              "2                      465.1358          NEUTRAL      C24H23N3O5S   \n",
              "3                      417.2416          NEUTRAL       C26H31N3O2   \n",
              "4                      328.0266          NEUTRAL       C14H8N4O4S   \n",
              "\n",
              "                                              Smiles  \\\n",
              "0                  N#Cc1ccc(-c2coc3cc(O)ccc3c2=O)cc1   \n",
              "1  COC(=O)[C@@H]1[C@H]2[C@H](OC(=O)c3ccccc3)CCN2O...   \n",
              "2  COc1cccc(-n2c(=O)c3c(C)c(C)sc3n(CC(=O)Nc3ccccc...   \n",
              "3  Cc1cc(C)cc(N(Cc2ccc(CO)cc2)c2cc(C(=O)N3CCCC3)n...   \n",
              "4  O=[N+]([O-])c1ccc(-c2nsc(-c3ccc([N+](=O)[O-])c...   \n",
              "\n",
              "                      InchiKey  \n",
              "0  VFISVTBQGUQPIQ-UHFFFAOYSA-N  \n",
              "1  OQFYYDNHLYZLOL-BORCDFBASA-N  \n",
              "2  CHCLAAKAFOYXSQ-UHFFFAOYSA-N  \n",
              "3  UFQDWXYZGWHYFO-UHFFFAOYSA-N  \n",
              "4  VCXUCYVZJDYDCE-UHFFFAOYSA-N  \n",
              "\n",
              "[5 rows x 32 columns]"
            ],
            "text/html": [
              "\n",
              "  <div id=\"df-4daa1ee2-7d8d-4d0f-8f72-764fb07307b9\">\n",
              "    <div class=\"colab-df-container\">\n",
              "      <div>\n",
              "<style scoped>\n",
              "    .dataframe tbody tr th:only-of-type {\n",
              "        vertical-align: middle;\n",
              "    }\n",
              "\n",
              "    .dataframe tbody tr th {\n",
              "        vertical-align: top;\n",
              "    }\n",
              "\n",
              "    .dataframe thead th {\n",
              "        text-align: right;\n",
              "    }\n",
              "</style>\n",
              "<table border=\"1\" class=\"dataframe\">\n",
              "  <thead>\n",
              "    <tr style=\"text-align: right;\">\n",
              "      <th></th>\n",
              "      <th>ChEMBLID</th>\n",
              "      <th>Name</th>\n",
              "      <th>Synonyms</th>\n",
              "      <th>Type</th>\n",
              "      <th>MaxPhase</th>\n",
              "      <th>MolecularWeight</th>\n",
              "      <th>Targets</th>\n",
              "      <th>Bioactivities</th>\n",
              "      <th>AlogP</th>\n",
              "      <th>PolarSurfaceArea</th>\n",
              "      <th>...</th>\n",
              "      <th>InorganicFlag</th>\n",
              "      <th>HeavyAtoms</th>\n",
              "      <th>HBA(Lipinski)</th>\n",
              "      <th>HBD(Lipinski)</th>\n",
              "      <th>#RO5Violations(Lipinski)</th>\n",
              "      <th>MolecularWeight(Monoisotopic)</th>\n",
              "      <th>MolecularSpecies</th>\n",
              "      <th>MolecularFormula</th>\n",
              "      <th>Smiles</th>\n",
              "      <th>InchiKey</th>\n",
              "    </tr>\n",
              "  </thead>\n",
              "  <tbody>\n",
              "    <tr>\n",
              "      <th>0</th>\n",
              "      <td>CHEMBL3425773</td>\n",
              "      <td>NaN</td>\n",
              "      <td>NaN</td>\n",
              "      <td>Small molecule</td>\n",
              "      <td>0</td>\n",
              "      <td>263.25</td>\n",
              "      <td>1.0</td>\n",
              "      <td>1.0</td>\n",
              "      <td>3.04</td>\n",
              "      <td>74.23</td>\n",
              "      <td>...</td>\n",
              "      <td>-1</td>\n",
              "      <td>20</td>\n",
              "      <td>4</td>\n",
              "      <td>1</td>\n",
              "      <td>0</td>\n",
              "      <td>263.0582</td>\n",
              "      <td>ACID</td>\n",
              "      <td>C16H9NO3</td>\n",
              "      <td>N#Cc1ccc(-c2coc3cc(O)ccc3c2=O)cc1</td>\n",
              "      <td>VFISVTBQGUQPIQ-UHFFFAOYSA-N</td>\n",
              "    </tr>\n",
              "    <tr>\n",
              "      <th>1</th>\n",
              "      <td>CHEMBL1998753</td>\n",
              "      <td>NaN</td>\n",
              "      <td>NaN</td>\n",
              "      <td>Small molecule</td>\n",
              "      <td>0</td>\n",
              "      <td>455.46</td>\n",
              "      <td>56.0</td>\n",
              "      <td>56.0</td>\n",
              "      <td>2.28</td>\n",
              "      <td>100.60</td>\n",
              "      <td>...</td>\n",
              "      <td>-1</td>\n",
              "      <td>33</td>\n",
              "      <td>9</td>\n",
              "      <td>0</td>\n",
              "      <td>0</td>\n",
              "      <td>455.158</td>\n",
              "      <td>NEUTRAL</td>\n",
              "      <td>C24H25NO8</td>\n",
              "      <td>COC(=O)[C@@H]1[C@H]2[C@H](OC(=O)c3ccccc3)CCN2O...</td>\n",
              "      <td>OQFYYDNHLYZLOL-BORCDFBASA-N</td>\n",
              "    </tr>\n",
              "    <tr>\n",
              "      <th>2</th>\n",
              "      <td>CHEMBL1867860</td>\n",
              "      <td>NaN</td>\n",
              "      <td>NaN</td>\n",
              "      <td>Small molecule</td>\n",
              "      <td>0</td>\n",
              "      <td>465.53</td>\n",
              "      <td>4.0</td>\n",
              "      <td>4.0</td>\n",
              "      <td>3.49</td>\n",
              "      <td>91.56</td>\n",
              "      <td>...</td>\n",
              "      <td>-1</td>\n",
              "      <td>33</td>\n",
              "      <td>8</td>\n",
              "      <td>1</td>\n",
              "      <td>0</td>\n",
              "      <td>465.1358</td>\n",
              "      <td>NEUTRAL</td>\n",
              "      <td>C24H23N3O5S</td>\n",
              "      <td>COc1cccc(-n2c(=O)c3c(C)c(C)sc3n(CC(=O)Nc3ccccc...</td>\n",
              "      <td>CHCLAAKAFOYXSQ-UHFFFAOYSA-N</td>\n",
              "    </tr>\n",
              "    <tr>\n",
              "      <th>3</th>\n",
              "      <td>CHEMBL481686</td>\n",
              "      <td>NaN</td>\n",
              "      <td>NaN</td>\n",
              "      <td>Small molecule</td>\n",
              "      <td>0</td>\n",
              "      <td>417.55</td>\n",
              "      <td>1.0</td>\n",
              "      <td>2.0</td>\n",
              "      <td>4.71</td>\n",
              "      <td>48.71</td>\n",
              "      <td>...</td>\n",
              "      <td>-1</td>\n",
              "      <td>31</td>\n",
              "      <td>5</td>\n",
              "      <td>1</td>\n",
              "      <td>0</td>\n",
              "      <td>417.2416</td>\n",
              "      <td>NEUTRAL</td>\n",
              "      <td>C26H31N3O2</td>\n",
              "      <td>Cc1cc(C)cc(N(Cc2ccc(CO)cc2)c2cc(C(=O)N3CCCC3)n...</td>\n",
              "      <td>UFQDWXYZGWHYFO-UHFFFAOYSA-N</td>\n",
              "    </tr>\n",
              "    <tr>\n",
              "      <th>4</th>\n",
              "      <td>CHEMBL1939547</td>\n",
              "      <td>NaN</td>\n",
              "      <td>NaN</td>\n",
              "      <td>Small molecule</td>\n",
              "      <td>0</td>\n",
              "      <td>328.31</td>\n",
              "      <td>5.0</td>\n",
              "      <td>10.0</td>\n",
              "      <td>3.69</td>\n",
              "      <td>112.06</td>\n",
              "      <td>...</td>\n",
              "      <td>-1</td>\n",
              "      <td>23</td>\n",
              "      <td>8</td>\n",
              "      <td>0</td>\n",
              "      <td>0</td>\n",
              "      <td>328.0266</td>\n",
              "      <td>NEUTRAL</td>\n",
              "      <td>C14H8N4O4S</td>\n",
              "      <td>O=[N+]([O-])c1ccc(-c2nsc(-c3ccc([N+](=O)[O-])c...</td>\n",
              "      <td>VCXUCYVZJDYDCE-UHFFFAOYSA-N</td>\n",
              "    </tr>\n",
              "  </tbody>\n",
              "</table>\n",
              "<p>5 rows × 32 columns</p>\n",
              "</div>\n",
              "      <button class=\"colab-df-convert\" onclick=\"convertToInteractive('df-4daa1ee2-7d8d-4d0f-8f72-764fb07307b9')\"\n",
              "              title=\"Convert this dataframe to an interactive table.\"\n",
              "              style=\"display:none;\">\n",
              "        \n",
              "  <svg xmlns=\"http://www.w3.org/2000/svg\" height=\"24px\"viewBox=\"0 0 24 24\"\n",
              "       width=\"24px\">\n",
              "    <path d=\"M0 0h24v24H0V0z\" fill=\"none\"/>\n",
              "    <path d=\"M18.56 5.44l.94 2.06.94-2.06 2.06-.94-2.06-.94-.94-2.06-.94 2.06-2.06.94zm-11 1L8.5 8.5l.94-2.06 2.06-.94-2.06-.94L8.5 2.5l-.94 2.06-2.06.94zm10 10l.94 2.06.94-2.06 2.06-.94-2.06-.94-.94-2.06-.94 2.06-2.06.94z\"/><path d=\"M17.41 7.96l-1.37-1.37c-.4-.4-.92-.59-1.43-.59-.52 0-1.04.2-1.43.59L10.3 9.45l-7.72 7.72c-.78.78-.78 2.05 0 2.83L4 21.41c.39.39.9.59 1.41.59.51 0 1.02-.2 1.41-.59l7.78-7.78 2.81-2.81c.8-.78.8-2.07 0-2.86zM5.41 20L4 18.59l7.72-7.72 1.47 1.35L5.41 20z\"/>\n",
              "  </svg>\n",
              "      </button>\n",
              "      \n",
              "  <style>\n",
              "    .colab-df-container {\n",
              "      display:flex;\n",
              "      flex-wrap:wrap;\n",
              "      gap: 12px;\n",
              "    }\n",
              "\n",
              "    .colab-df-convert {\n",
              "      background-color: #E8F0FE;\n",
              "      border: none;\n",
              "      border-radius: 50%;\n",
              "      cursor: pointer;\n",
              "      display: none;\n",
              "      fill: #1967D2;\n",
              "      height: 32px;\n",
              "      padding: 0 0 0 0;\n",
              "      width: 32px;\n",
              "    }\n",
              "\n",
              "    .colab-df-convert:hover {\n",
              "      background-color: #E2EBFA;\n",
              "      box-shadow: 0px 1px 2px rgba(60, 64, 67, 0.3), 0px 1px 3px 1px rgba(60, 64, 67, 0.15);\n",
              "      fill: #174EA6;\n",
              "    }\n",
              "\n",
              "    [theme=dark] .colab-df-convert {\n",
              "      background-color: #3B4455;\n",
              "      fill: #D2E3FC;\n",
              "    }\n",
              "\n",
              "    [theme=dark] .colab-df-convert:hover {\n",
              "      background-color: #434B5C;\n",
              "      box-shadow: 0px 1px 3px 1px rgba(0, 0, 0, 0.15);\n",
              "      filter: drop-shadow(0px 1px 2px rgba(0, 0, 0, 0.3));\n",
              "      fill: #FFFFFF;\n",
              "    }\n",
              "  </style>\n",
              "\n",
              "      <script>\n",
              "        const buttonEl =\n",
              "          document.querySelector('#df-4daa1ee2-7d8d-4d0f-8f72-764fb07307b9 button.colab-df-convert');\n",
              "        buttonEl.style.display =\n",
              "          google.colab.kernel.accessAllowed ? 'block' : 'none';\n",
              "\n",
              "        async function convertToInteractive(key) {\n",
              "          const element = document.querySelector('#df-4daa1ee2-7d8d-4d0f-8f72-764fb07307b9');\n",
              "          const dataTable =\n",
              "            await google.colab.kernel.invokeFunction('convertToInteractive',\n",
              "                                                     [key], {});\n",
              "          if (!dataTable) return;\n",
              "\n",
              "          const docLinkHtml = 'Like what you see? Visit the ' +\n",
              "            '<a target=\"_blank\" href=https://colab.research.google.com/notebooks/data_table.ipynb>data table notebook</a>'\n",
              "            + ' to learn more about interactive tables.';\n",
              "          element.innerHTML = '';\n",
              "          dataTable['output_type'] = 'display_data';\n",
              "          await google.colab.output.renderOutput(dataTable, element);\n",
              "          const docLink = document.createElement('div');\n",
              "          docLink.innerHTML = docLinkHtml;\n",
              "          element.appendChild(docLink);\n",
              "        }\n",
              "      </script>\n",
              "    </div>\n",
              "  </div>\n",
              "  "
            ]
          },
          "metadata": {},
          "execution_count": 2
        }
      ]
    },
    {
      "cell_type": "code",
      "source": [
        "df.MolecularWeight[1520]"
      ],
      "metadata": {
        "id": "V36hXX3YYLkm",
        "colab": {
          "base_uri": "https://localhost:8080/"
        },
        "outputId": "fe72efdf-2930-4b4a-d98d-589151f79262"
      },
      "execution_count": 3,
      "outputs": [
        {
          "output_type": "execute_result",
          "data": {
            "text/plain": [
              "522.66"
            ]
          },
          "metadata": {},
          "execution_count": 3
        }
      ]
    },
    {
      "cell_type": "code",
      "source": [
        "df.MolecularWeight[[23, 443, 3444]]"
      ],
      "metadata": {
        "id": "8z8dQpq_YLXa",
        "colab": {
          "base_uri": "https://localhost:8080/"
        },
        "outputId": "85ac12df-44c3-4e8a-ce18-5edc1f73c2b9"
      },
      "execution_count": 4,
      "outputs": [
        {
          "output_type": "execute_result",
          "data": {
            "text/plain": [
              "23      467.98\n",
              "443     350.89\n",
              "3444    444.92\n",
              "Name: MolecularWeight, dtype: float64"
            ]
          },
          "metadata": {},
          "execution_count": 4
        }
      ]
    },
    {
      "cell_type": "markdown",
      "source": [
        "Using loc[ ] function"
      ],
      "metadata": {
        "id": "5nvWyRyiauZm"
      }
    },
    {
      "cell_type": "code",
      "source": [
        "df.loc[1520]['MolecularWeight'] # Please consider the order of square brackets. The first bracket belongs to the row position and the second one to the column label. "
      ],
      "metadata": {
        "id": "RAghD5-FYLU_",
        "colab": {
          "base_uri": "https://localhost:8080/"
        },
        "outputId": "bdb45c04-abe5-4b91-e836-ff91b9a78993"
      },
      "execution_count": 5,
      "outputs": [
        {
          "output_type": "execute_result",
          "data": {
            "text/plain": [
              "522.66"
            ]
          },
          "metadata": {},
          "execution_count": 5
        }
      ]
    },
    {
      "cell_type": "code",
      "source": [
        "df.loc[[23, 443, 3444]]['MolecularWeight']"
      ],
      "metadata": {
        "id": "U0ZXAK3UYLSb",
        "colab": {
          "base_uri": "https://localhost:8080/"
        },
        "outputId": "9f181231-802f-4717-ed9e-f4dcfd019cfa"
      },
      "execution_count": 6,
      "outputs": [
        {
          "output_type": "execute_result",
          "data": {
            "text/plain": [
              "23      467.98\n",
              "443     350.89\n",
              "3444    444.92\n",
              "Name: MolecularWeight, dtype: float64"
            ]
          },
          "metadata": {},
          "execution_count": 6
        }
      ]
    },
    {
      "cell_type": "markdown",
      "source": [
        "Using iloc[ ] function"
      ],
      "metadata": {
        "id": "AofuYemXa2O2"
      }
    },
    {
      "cell_type": "code",
      "source": [
        "df.iloc[1520]['MolecularWeight']"
      ],
      "metadata": {
        "id": "NwffteO-YLPY",
        "colab": {
          "base_uri": "https://localhost:8080/"
        },
        "outputId": "3ee98f50-7b32-486b-be03-1d78b66f3460"
      },
      "execution_count": 7,
      "outputs": [
        {
          "output_type": "execute_result",
          "data": {
            "text/plain": [
              "522.66"
            ]
          },
          "metadata": {},
          "execution_count": 7
        }
      ]
    },
    {
      "cell_type": "code",
      "source": [
        "df.iloc[[23, 443, 3444]]['MolecularWeight']"
      ],
      "metadata": {
        "id": "zcVO61LzYLNK",
        "colab": {
          "base_uri": "https://localhost:8080/"
        },
        "outputId": "e0776996-4cc9-4007-d22e-8e07a9c14647"
      },
      "execution_count": 8,
      "outputs": [
        {
          "output_type": "execute_result",
          "data": {
            "text/plain": [
              "23      467.98\n",
              "443     350.89\n",
              "3444    444.92\n",
              "Name: MolecularWeight, dtype: float64"
            ]
          },
          "metadata": {},
          "execution_count": 8
        }
      ]
    },
    {
      "cell_type": "code",
      "source": [
        "df.at[1520, 'MolecularWeight']"
      ],
      "metadata": {
        "id": "xJF4VUq0YLJ_",
        "colab": {
          "base_uri": "https://localhost:8080/"
        },
        "outputId": "3c1ea9cb-540b-4e3f-c219-25368f600fde"
      },
      "execution_count": 9,
      "outputs": [
        {
          "output_type": "execute_result",
          "data": {
            "text/plain": [
              "522.66"
            ]
          },
          "metadata": {},
          "execution_count": 9
        }
      ]
    },
    {
      "cell_type": "code",
      "source": [],
      "metadata": {
        "id": "BfM4BIkpNZXI"
      },
      "execution_count": 9,
      "outputs": []
    }
  ]
}