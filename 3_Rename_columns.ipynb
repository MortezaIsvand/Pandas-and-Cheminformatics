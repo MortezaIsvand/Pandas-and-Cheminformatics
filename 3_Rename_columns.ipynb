{
  "nbformat": 4,
  "nbformat_minor": 0,
  "metadata": {
    "colab": {
      "name": "3_Rename columns.ipynb",
      "provenance": [],
      "collapsed_sections": [],
      "mount_file_id": "1U4VDOPReXJE61l6JZdVJVKnIP-IDjHwS",
      "authorship_tag": "ABX9TyMxaI6RzZ3czE5+3q36o1cb"
    },
    "kernelspec": {
      "name": "python3",
      "display_name": "Python 3"
    },
    "language_info": {
      "name": "python"
    }
  },
  "cells": [
    {
      "cell_type": "code",
      "execution_count": null,
      "metadata": {
        "id": "w7u0jhvNOIsc"
      },
      "outputs": [],
      "source": [
        "import pandas as pd"
      ]
    },
    {
      "cell_type": "code",
      "source": [
        "df = pd.read_csv('/content/drive/MyDrive/Chembl_library_2M.csv', sep=';')\n",
        "df.head()"
      ],
      "metadata": {
        "id": "aWEOSk9OOKfk"
      },
      "execution_count": null,
      "outputs": []
    },
    {
      "cell_type": "code",
      "source": [
        "df['AlogP']"
      ],
      "metadata": {
        "id": "7NoFs7r-OTYT"
      },
      "execution_count": null,
      "outputs": []
    },
    {
      "cell_type": "code",
      "source": [
        "df.AlogP"
      ],
      "metadata": {
        "id": "8fth78oAP0Qf"
      },
      "execution_count": null,
      "outputs": []
    },
    {
      "cell_type": "code",
      "source": [
        "df['Molecular Weight']"
      ],
      "metadata": {
        "id": "sDgXEY13QBb5"
      },
      "execution_count": null,
      "outputs": []
    },
    {
      "cell_type": "code",
      "source": [
        "df.Molecular Weight    # => Since the column name has a space, this colums is not callable or accessible in such a way. Also, we have similar problems when working with panas-query() function."
      ],
      "metadata": {
        "id": "lsGKa92TQL4r"
      },
      "execution_count": null,
      "outputs": []
    },
    {
      "cell_type": "code",
      "source": [
        "df.query('Molecular Weight == 263.25')"
      ],
      "metadata": {
        "id": "JQOvsBSq47qq"
      },
      "execution_count": null,
      "outputs": []
    },
    {
      "cell_type": "code",
      "source": [
        "df.query('Targets == 56.0')"
      ],
      "metadata": {
        "id": "3oj1y-a35fB6"
      },
      "execution_count": null,
      "outputs": []
    },
    {
      "cell_type": "code",
      "source": [
        "# Method 1\n",
        "df.rename(columns={'ChEMBL ID': 'ID', 'Name': 'N', 'Molecular Weight': 'MW'})#1 # Saving changes; inplace=True, creating new df."
      ],
      "metadata": {
        "id": "-zZKJDZrQre_"
      },
      "execution_count": null,
      "outputs": []
    },
    {
      "cell_type": "code",
      "source": [
        "df.rename({'ChEMBL ID': 'ID', 'Name': 'N', 'Molecular Weight': 'MW'}, axis=1) # 2"
      ],
      "metadata": {
        "id": "T9oBRbf_yf7-"
      },
      "execution_count": null,
      "outputs": []
    },
    {
      "cell_type": "code",
      "source": [
        "df.rename({'ChEMBL ID': 'ID', 'Name': 'N', 'Molecular Weight': 'MW'}, axis='columns') # 3"
      ],
      "metadata": {
        "id": "0ezOaOr_y_LB"
      },
      "execution_count": null,
      "outputs": []
    },
    {
      "cell_type": "code",
      "source": [
        "df.rename({'ChEMBL ID': 'ID', 'Name': 'N', 'Molecular Weight': 'MW'}) # It does not work"
      ],
      "metadata": {
        "id": "ISBLTYsUy_HH"
      },
      "execution_count": null,
      "outputs": []
    },
    {
      "cell_type": "code",
      "source": [
        "# Method 2\n",
        "df.columns = ['ChEMBLID',\n",
        " 'Name',\n",
        " 'Synonyms',\n",
        " 'Type',\n",
        " 'MaxPhase',\n",
        " 'MolecularWeight',\n",
        " 'Targets',\n",
        " 'Bioactivities',\n",
        " 'AlogP',\n",
        " 'PolarSurfaceArea',\n",
        " 'HBA',\n",
        " 'HBD',\n",
        " '#RO5Violations',\n",
        " '#RotatableBonds',\n",
        " 'PassesRo3',\n",
        " 'QEDWeighted',\n",
        " 'CXAcidicpKa',\n",
        " 'CXBasicpKa',\n",
        " 'CXLogP',\n",
        " 'CXLogD',\n",
        " 'AromaticRings',\n",
        " 'StructureType',\n",
        " 'InorganicFlag',\n",
        " 'HeavyAtoms',\n",
        " 'HBA(Lipinski)',\n",
        " 'HBD(Lipinski)',\n",
        " '#RO5Violations(Lipinski)',\n",
        " 'MolecularWeight(Monoisotopic)',\n",
        " 'MolecularSpecies',\n",
        " 'MolecularFormula',\n",
        " 'Smiles',\n",
        " 'InchiKey']\n",
        "df.columns"
      ],
      "metadata": {
        "id": "JusQwO2BAHtV"
      },
      "execution_count": null,
      "outputs": []
    },
    {
      "cell_type": "code",
      "source": [
        "# Metohd 3\n",
        "df.columns.values[0] = 'ID_new'\n",
        "df.columns"
      ],
      "metadata": {
        "id": "rDTanr7OCA30"
      },
      "execution_count": null,
      "outputs": []
    },
    {
      "cell_type": "code",
      "source": [
        "df.columns.values[[1, 2, 3]] = ['al', 'ab', 'ac']\n",
        "df.columns\n"
      ],
      "metadata": {
        "id": "A2Z-zItsCxee"
      },
      "execution_count": null,
      "outputs": []
    },
    {
      "cell_type": "code",
      "source": [
        "# Method 4\n",
        "df.columns = [c.replace (' ', '') for c in df.columns]\n",
        "df.columns"
      ],
      "metadata": {
        "id": "4y2QA8THDq0N"
      },
      "execution_count": null,
      "outputs": []
    },
    {
      "cell_type": "code",
      "source": [
        "# Method 5 => Recommended\n",
        "df.columns = df.columns.str.replace(' ', '')\n",
        "df.columns"
      ],
      "metadata": {
        "id": "uVALuzOTEgL-"
      },
      "execution_count": null,
      "outputs": []
    },
    {
      "cell_type": "code",
      "source": [
        "df.MolecularWeight"
      ],
      "metadata": {
        "id": "awhpWWTtFRBg"
      },
      "execution_count": null,
      "outputs": []
    },
    {
      "cell_type": "code",
      "source": [
        "df.to_csv('Chembl_library_2M_2.csv', index=False)"
      ],
      "metadata": {
        "id": "K6lhD3OCYNyV"
      },
      "execution_count": null,
      "outputs": []
    },
    {
      "cell_type": "code",
      "source": [],
      "metadata": {
        "id": "3R0h1_iHXdBZ"
      },
      "execution_count": null,
      "outputs": []
    }
  ]
}